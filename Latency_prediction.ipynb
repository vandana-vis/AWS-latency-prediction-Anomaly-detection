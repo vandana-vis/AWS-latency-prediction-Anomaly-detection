{
 "cells": [
  {
   "cell_type": "code",
   "execution_count": 1,
   "id": "2f6bce10",
   "metadata": {},
   "outputs": [],
   "source": [
    "#importing required packages\n",
    "\n",
    "import pandas as pd\n",
    "from sklearn.model_selection import train_test_split\n",
    "from sklearn import linear_model\n",
    "import statsmodels.api as sm\n",
    "import seaborn as sns\n",
    "from sklearn.metrics import r2_score\n",
    "import math\n",
    "\n",
    "import warnings\n",
    "warnings.filterwarnings(\"ignore\")\n",
    "\n"
   ]
  },
  {
   "cell_type": "code",
   "execution_count": 2,
   "id": "c7468342",
   "metadata": {},
   "outputs": [
    {
     "data": {
      "text/html": [
       "<div>\n",
       "<style scoped>\n",
       "    .dataframe tbody tr th:only-of-type {\n",
       "        vertical-align: middle;\n",
       "    }\n",
       "\n",
       "    .dataframe tbody tr th {\n",
       "        vertical-align: top;\n",
       "    }\n",
       "\n",
       "    .dataframe thead th {\n",
       "        text-align: right;\n",
       "    }\n",
       "</style>\n",
       "<table border=\"1\" class=\"dataframe\">\n",
       "  <thead>\n",
       "    <tr style=\"text-align: right;\">\n",
       "      <th></th>\n",
       "      <th>cloud_geo_iso1</th>\n",
       "      <th>cloud_geo_iso2</th>\n",
       "      <th>latency_ms</th>\n",
       "    </tr>\n",
       "  </thead>\n",
       "  <tbody>\n",
       "    <tr>\n",
       "      <th>66</th>\n",
       "      <td>AWS.eu-west-1</td>\n",
       "      <td>AWS.ap-northeast-2</td>\n",
       "      <td>124.20</td>\n",
       "    </tr>\n",
       "    <tr>\n",
       "      <th>67</th>\n",
       "      <td>AWS.eu-west-1</td>\n",
       "      <td>AWS.ap-southeast-2</td>\n",
       "      <td>131.80</td>\n",
       "    </tr>\n",
       "    <tr>\n",
       "      <th>68</th>\n",
       "      <td>AWS.eu-west-1</td>\n",
       "      <td>AWS.ap-northeast-2</td>\n",
       "      <td>123.75</td>\n",
       "    </tr>\n",
       "    <tr>\n",
       "      <th>69</th>\n",
       "      <td>AWS.eu-west-1</td>\n",
       "      <td>AWS.eu-west-2</td>\n",
       "      <td>6.35</td>\n",
       "    </tr>\n",
       "    <tr>\n",
       "      <th>70</th>\n",
       "      <td>AWS.eu-west-1</td>\n",
       "      <td>AWS.us-west-1</td>\n",
       "      <td>72.35</td>\n",
       "    </tr>\n",
       "    <tr>\n",
       "      <th>71</th>\n",
       "      <td>AWS.eu-west-1</td>\n",
       "      <td>AWS.eu-north-1</td>\n",
       "      <td>23.75</td>\n",
       "    </tr>\n",
       "    <tr>\n",
       "      <th>72</th>\n",
       "      <td>AWS.eu-west-1</td>\n",
       "      <td>AWS.eu-central-1</td>\n",
       "      <td>14.55</td>\n",
       "    </tr>\n",
       "    <tr>\n",
       "      <th>73</th>\n",
       "      <td>AWS.eu-west-1</td>\n",
       "      <td>AWS.us-east-1</td>\n",
       "      <td>36.40</td>\n",
       "    </tr>\n",
       "    <tr>\n",
       "      <th>74</th>\n",
       "      <td>AWS.eu-west-1</td>\n",
       "      <td>AWS.ca-central-1</td>\n",
       "      <td>39.55</td>\n",
       "    </tr>\n",
       "    <tr>\n",
       "      <th>75</th>\n",
       "      <td>AWS.eu-west-1</td>\n",
       "      <td>AWS.eu-west-3</td>\n",
       "      <td>10.75</td>\n",
       "    </tr>\n",
       "  </tbody>\n",
       "</table>\n",
       "</div>"
      ],
      "text/plain": [
       "   cloud_geo_iso1      cloud_geo_iso2  latency_ms\n",
       "66  AWS.eu-west-1  AWS.ap-northeast-2      124.20\n",
       "67  AWS.eu-west-1  AWS.ap-southeast-2      131.80\n",
       "68  AWS.eu-west-1  AWS.ap-northeast-2      123.75\n",
       "69  AWS.eu-west-1       AWS.eu-west-2        6.35\n",
       "70  AWS.eu-west-1       AWS.us-west-1       72.35\n",
       "71  AWS.eu-west-1      AWS.eu-north-1       23.75\n",
       "72  AWS.eu-west-1    AWS.eu-central-1       14.55\n",
       "73  AWS.eu-west-1       AWS.us-east-1       36.40\n",
       "74  AWS.eu-west-1    AWS.ca-central-1       39.55\n",
       "75  AWS.eu-west-1       AWS.eu-west-3       10.75"
      ]
     },
     "execution_count": 2,
     "metadata": {},
     "output_type": "execute_result"
    }
   ],
   "source": [
    "src_dest_df = pd.read_parquet('src_dest_df.parquet')\n",
    "src_dest_df_1 = src_dest_df.loc[src_dest_df.cloud_geo_iso1 != 'AWS.ap-east-1'] \n",
    "# removing this from training so that you can use it for testing/validation later \n",
    "\n",
    "# Drop the non-transformed columns\n",
    "src_dest_df_1 = src_dest_df_1.drop(columns = ['packet_loss_percent'])\n",
    "src_dest_df_1 = src_dest_df_1.drop(columns = ['timestamp'])\n",
    "\n",
    "src_dest_df.timestamp = pd.to_datetime(src_dest_df.timestamp)\n",
    "src_dest_df.shape\n",
    "src_dest_df.dtypes\n",
    "src_dest_df_1.head(10)\n",
    "\n",
    "\n"
   ]
  },
  {
   "cell_type": "code",
   "execution_count": 3,
   "id": "bab6015b",
   "metadata": {},
   "outputs": [
    {
     "data": {
      "text/plain": [
       "array(['AWS.us-east-1', 'AWS.us-east-2', 'AWS.us-west-1', 'AWS.us-west-2',\n",
       "       'AWS.eu-west-1', 'AWS.eu-west-2', 'AWS.eu-west-3',\n",
       "       'AWS.eu-central-1', 'AWS.sa-east-1', 'AWS.ap-southeast-1',\n",
       "       'AWS.ap-southeast-2', 'AWS.ap-northeast-1', 'AWS.ap-northeast-2',\n",
       "       'AWS.ap-south-1', 'AWS.ca-central-1', 'AWS.eu-north-1',\n",
       "       'AWS.me-south-1', 'AWS.ap-east-1'], dtype=object)"
      ]
     },
     "execution_count": 3,
     "metadata": {},
     "output_type": "execute_result"
    }
   ],
   "source": [
    "aws_region_df = pd.read_pickle('region_geo_lookup_aws.pkl')\n",
    "aws_region_df.shape\n",
    "aws_region_df.dtypes\n",
    "aws_region_df\n",
    "\n",
    "aws_region_df.region_name.unique()"
   ]
  },
  {
   "cell_type": "code",
   "execution_count": 4,
   "id": "e7e44241",
   "metadata": {},
   "outputs": [
    {
     "name": "stdout",
     "output_type": "stream",
     "text": [
      "           region_name cloud_service_provider                 city_name  \\\n",
      "0        AWS.us-east-1                    AWS                  Virginia   \n",
      "1        AWS.us-east-2                    AWS                      Ohio   \n",
      "2        AWS.us-west-1                    AWS                California   \n",
      "3        AWS.us-west-2                    AWS                    Oregon   \n",
      "4        AWS.eu-west-1                    AWS                   Ireland   \n",
      "5        AWS.eu-west-2                    AWS                    London   \n",
      "6        AWS.eu-west-3                    AWS                     Paris   \n",
      "7     AWS.eu-central-1                    AWS                 Frankfurt   \n",
      "8        AWS.sa-east-1                    AWS                 Sao Paulo   \n",
      "9   AWS.ap-southeast-1                    AWS                 Singapore   \n",
      "10  AWS.ap-southeast-2                    AWS                    Sydney   \n",
      "11  AWS.ap-northeast-1                    AWS                     Tokyo   \n",
      "12  AWS.ap-northeast-2                    AWS                     Seoul   \n",
      "13      AWS.ap-south-1                    AWS                    Mumbai   \n",
      "14    AWS.ca-central-1                    AWS            Canada Central   \n",
      "15      AWS.eu-north-1                    AWS        Europe (Stockholm)   \n",
      "16      AWS.me-south-1                    AWS     Middle East (Bahrain)   \n",
      "17       AWS.ap-east-1                    AWS  Asia Pacific (Hong Kong)   \n",
      "\n",
      "          lat         lon   timestamp  \n",
      "0   38.130000  -78.450000  2020-03-30  \n",
      "1   39.960000  -83.000000  2020-03-30  \n",
      "2   37.350000 -121.960000  2020-03-30  \n",
      "3   46.150000 -123.880000  2020-03-30  \n",
      "4   53.000000   -8.000000  2020-03-30  \n",
      "5   51.000000   -0.100000  2020-03-30  \n",
      "6   48.860000    2.350000  2020-03-30  \n",
      "7   50.000000    8.000000  2020-03-30  \n",
      "8  -23.340000  -46.380000  2020-03-30  \n",
      "9    1.370000  103.800000  2020-03-30  \n",
      "10 -33.860000  151.200000  2020-03-30  \n",
      "11  35.410000  139.420000  2020-03-30  \n",
      "12  37.560000  126.980000  2020-03-30  \n",
      "13  19.080000   72.880000  2020-03-30  \n",
      "14  45.500000  -73.600000  2020-03-30  \n",
      "15  59.325117   18.071093  2020-03-30  \n",
      "16  26.155125   50.534461  2020-03-30  \n",
      "17  22.279328  114.162813  2020-03-30  \n"
     ]
    }
   ],
   "source": [
    "aws_region_df = pd.read_pickle('region_geo_lookup_aws.pkl')\n",
    "aws_region_df.shape\n",
    "aws_region_df.dtypes\n",
    "aws_region_df\n",
    "\n",
    "aws_region_df.region_name.unique()\n",
    "print(aws_region_df)"
   ]
  },
  {
   "cell_type": "code",
   "execution_count": 8,
   "id": "5b0a52c1",
   "metadata": {},
   "outputs": [],
   "source": [
    "#####----Random forest------\n",
    "\n",
    "#src_dest_df, aws_region_df, src_dest_df_1\n",
    "\n"
   ]
  },
  {
   "cell_type": "markdown",
   "id": "f22242a4",
   "metadata": {},
   "source": [
    "# ======================================================"
   ]
  },
  {
   "cell_type": "markdown",
   "id": "797e9f53",
   "metadata": {},
   "source": [
    "# 1) Predict the latency from AWS.ap-east-1 to all other AWS regions in the src_dest_df.parquet"
   ]
  },
  {
   "cell_type": "markdown",
   "id": "119c7dc3",
   "metadata": {},
   "source": [
    "# ======================================================="
   ]
  },
  {
   "cell_type": "code",
   "execution_count": 232,
   "id": "9d54c503",
   "metadata": {},
   "outputs": [],
   "source": [
    "# Our dataframes: \n",
    "#src_dest_df (Original DF), \n",
    "# aws_region_df, \n",
    "# src_dest_df_1(Dataframe without 'AWS.ap-east-1')\n",
    "\n",
    "import pandas as pd\n",
    "import numpy as np\n",
    "import matplotlib.pyplot as plt\n",
    "\n",
    "data = src_dest_df_1"
   ]
  },
  {
   "cell_type": "code",
   "execution_count": 233,
   "id": "76daef6a",
   "metadata": {},
   "outputs": [
    {
     "data": {
      "text/plain": [
       "cloud_geo_iso1    0\n",
       "cloud_geo_iso2    0\n",
       "latency_ms        0\n",
       "dtype: int64"
      ]
     },
     "execution_count": 233,
     "metadata": {},
     "output_type": "execute_result"
    }
   ],
   "source": [
    "#Checking if there are any null values in the dataframe\n",
    "data.isnull().sum()"
   ]
  },
  {
   "cell_type": "code",
   "execution_count": 234,
   "id": "4b75d925",
   "metadata": {},
   "outputs": [
    {
     "data": {
      "text/plain": [
       "cloud_geo_iso1    0\n",
       "cloud_geo_iso2    0\n",
       "latency_ms        0\n",
       "dtype: int64"
      ]
     },
     "execution_count": 234,
     "metadata": {},
     "output_type": "execute_result"
    }
   ],
   "source": [
    "#checking null values in test set\n",
    "test = src_dest_df.loc[src_dest_df.cloud_geo_iso1 == 'AWS.ap-east-1'] \n",
    "test = test.drop(columns=['timestamp', 'packet_loss_percent'])\n",
    "test.isnull().sum()"
   ]
  },
  {
   "cell_type": "code",
   "execution_count": 235,
   "id": "81162f56",
   "metadata": {},
   "outputs": [],
   "source": [
    "X = data\n",
    "y = data['latency_ms']\n"
   ]
  },
  {
   "cell_type": "code",
   "execution_count": 236,
   "id": "76f93210",
   "metadata": {},
   "outputs": [],
   "source": [
    "#Doing the train test split\n",
    "\n",
    "seed = 50  # so that the result is reproducible\n",
    "from sklearn.model_selection import train_test_split\n",
    "X_train, X_test, y_train, y_test = train_test_split(X,y,test_size=0.333, random_state = seed)"
   ]
  },
  {
   "cell_type": "code",
   "execution_count": 237,
   "id": "479be250",
   "metadata": {},
   "outputs": [
    {
     "data": {
      "text/plain": [
       "cloud_geo_iso1     object\n",
       "cloud_geo_iso2     object\n",
       "latency_ms        float64\n",
       "dtype: object"
      ]
     },
     "execution_count": 237,
     "metadata": {},
     "output_type": "execute_result"
    }
   ],
   "source": [
    "X_train.dtypes"
   ]
  },
  {
   "cell_type": "code",
   "execution_count": 238,
   "id": "27c9610d",
   "metadata": {},
   "outputs": [
    {
     "name": "stdout",
     "output_type": "stream",
     "text": [
      "            cloud_geo_iso1      cloud_geo_iso2  latency_ms\n",
      "276556      AWS.eu-north-1       AWS.us-east-1       55.75\n",
      "184734       AWS.us-west-1       AWS.eu-west-2       71.05\n",
      "47788        AWS.eu-west-2  AWS.ap-northeast-1      107.60\n",
      "373753  AWS.ap-northeast-1       AWS.eu-west-2      112.60\n",
      "224156       AWS.us-west-2  AWS.ap-southeast-2       71.75\n",
      "...                    ...                 ...         ...\n",
      "271864      AWS.ap-south-1       AWS.sa-east-1      153.30\n",
      "245358      AWS.ap-south-1  AWS.ap-northeast-1       65.75\n",
      "373533  AWS.ap-northeast-1  AWS.ap-northeast-2       17.75\n",
      "136126       AWS.us-east-1    AWS.ca-central-1       10.25\n",
      "428091  AWS.ap-northeast-2    AWS.eu-central-1      139.75\n",
      "\n",
      "[164840 rows x 3 columns]\n"
     ]
    }
   ],
   "source": [
    "print(X_test)"
   ]
  },
  {
   "cell_type": "code",
   "execution_count": 239,
   "id": "ee04047d",
   "metadata": {},
   "outputs": [
    {
     "name": "stdout",
     "output_type": "stream",
     "text": [
      "307734     35.50\n",
      "331128     62.45\n",
      "225332     65.40\n",
      "226787     35.95\n",
      "336945     46.75\n",
      "           ...  \n",
      "441699     89.00\n",
      "153775     31.70\n",
      "239565     71.75\n",
      "103970    156.15\n",
      "407282     94.15\n",
      "Name: latency_ms, Length: 330175, dtype: float64\n"
     ]
    }
   ],
   "source": [
    "print(y_train)"
   ]
  },
  {
   "cell_type": "code",
   "execution_count": 240,
   "id": "f8a6c4ac",
   "metadata": {},
   "outputs": [],
   "source": [
    "features_to_encode = list(X_train.select_dtypes(include = ['object']).columns) "
   ]
  },
  {
   "cell_type": "code",
   "execution_count": 241,
   "id": "82351bfa",
   "metadata": {},
   "outputs": [],
   "source": [
    "# doing one-hot encoding to deal with categorical variables\n",
    "\n",
    "from sklearn.preprocessing import OneHotEncoder\n",
    "from sklearn.compose import make_column_transformer\n",
    "col_trans = make_column_transformer(\n",
    "                        (OneHotEncoder(handle_unknown = 'ignore'),features_to_encode),\n",
    "                        remainder = \"passthrough\"\n",
    "                        )"
   ]
  },
  {
   "cell_type": "code",
   "execution_count": 242,
   "id": "895de455",
   "metadata": {},
   "outputs": [],
   "source": [
    "#applying random-forest\n",
    "from sklearn.ensemble import RandomForestRegressor\n",
    "rf_regressor = RandomForestRegressor(\n",
    "                      min_samples_leaf=50,\n",
    "                      n_estimators=150,\n",
    "                      bootstrap=True,\n",
    "                      oob_score=True,\n",
    "                      n_jobs=-1,\n",
    "                      random_state=seed,\n",
    "                      max_features='auto')"
   ]
  },
  {
   "cell_type": "code",
   "execution_count": 243,
   "id": "c813d1b5",
   "metadata": {},
   "outputs": [
    {
     "data": {
      "text/plain": [
       "Pipeline(steps=[('columntransformer',\n",
       "                 ColumnTransformer(remainder='passthrough',\n",
       "                                   transformers=[('onehotencoder',\n",
       "                                                  OneHotEncoder(handle_unknown='ignore'),\n",
       "                                                  ['cloud_geo_iso1',\n",
       "                                                   'cloud_geo_iso2'])])),\n",
       "                ('randomforestregressor',\n",
       "                 RandomForestRegressor(min_samples_leaf=50, n_estimators=150,\n",
       "                                       n_jobs=-1, oob_score=True,\n",
       "                                       random_state=50))])"
      ]
     },
     "execution_count": 243,
     "metadata": {},
     "output_type": "execute_result"
    }
   ],
   "source": [
    "from sklearn.pipeline import make_pipeline\n",
    "pipe = make_pipeline(col_trans, rf_regressor)\n",
    "pipe.fit(X_train, y_train)"
   ]
  },
  {
   "cell_type": "code",
   "execution_count": 248,
   "id": "12112203",
   "metadata": {},
   "outputs": [
    {
     "name": "stdout",
     "output_type": "stream",
     "text": [
      "[ 55.75        71.05       107.60339432 ...  17.74437093  10.25\n",
      " 139.75      ]\n"
     ]
    }
   ],
   "source": [
    "#Doing the prediction on validation set\n",
    "\n",
    "y_pred = pipe.predict(X_test)\n",
    "print(y_pred)\n"
   ]
  },
  {
   "cell_type": "code",
   "execution_count": 245,
   "id": "6d04bf42",
   "metadata": {},
   "outputs": [
    {
     "name": "stdout",
     "output_type": "stream",
     "text": [
      "[156.53654943 155.39290217 153.86985689 155.51885838 155.51885838\n",
      " 115.88488703 155.51885838 155.51885838 154.05898535 115.80011723\n",
      " 115.86549501 115.42645111 114.99882357 114.90667001 155.51885838\n",
      " 115.26898829 115.34897371 114.61342007 116.40876851 113.50346066\n",
      " 115.42645111 153.06686397 155.51885838 114.61342007 154.29083141\n",
      " 155.51885838 115.42645111 156.27491309 114.99882357 115.60453605\n",
      " 153.80034068 155.51885838 155.51885838 153.9606071  114.62032293\n",
      " 115.86549501 114.92010893 114.9247882  154.29083141 153.33788366\n",
      " 154.29083141 153.22534867 116.40876851 115.88488703 115.26898829\n",
      " 115.20307283 116.40876851 118.45782215 113.61071223 114.61342007\n",
      " 153.86985689 155.99327253 114.54001076 153.54968517 155.51885838\n",
      " 115.42645111 155.51885838 117.03326442 115.60453605 116.35350097\n",
      " 156.03178791 154.29083141 155.51885838 156.72267873 153.33788366\n",
      " 153.9606071 ]\n",
      "[156.55, 154.6, 153.85, 155.6, 155.0, 115.9, 155.4, 155.1, 154.05, 115.8, 115.85, 115.45, 115.0, 114.85, 155.45, 115.25, 115.35, 114.6, 116.45, 113.5, 115.45, 153.05, 154.85, 114.6, 154.45, 154.85, 115.45, 156.25, 115.0, 115.6, 153.8, 154.7, 155.45, 153.95, 114.65, 115.85, 114.9, 114.95, 154.4, 153.35, 154.3, 153.25, 116.45, 115.9, 115.25, 115.2, 116.45, 118.45, 113.6, 114.6, 153.85, 156.0, 114.55, 153.55, 154.8, 115.45, 154.75, 117.05, 115.6, 116.35, 156.05, 154.4, 155.4, 156.7, 153.35, 153.95]\n"
     ]
    }
   ],
   "source": [
    "# Doing the prediction on the test set (Our test set has no 'AWS.ap-east-1' region, \n",
    "# so we are testing our data by introducing new region)\n",
    "y_pred = pipe.predict(test)\n",
    "print(y_pred)\n",
    "print(test['latency_ms'].to_list())\n"
   ]
  },
  {
   "cell_type": "code",
   "execution_count": 44,
   "id": "25309034",
   "metadata": {},
   "outputs": [
    {
     "name": "stdout",
     "output_type": "stream",
     "text": [
      "R squared: 0.9998486294774691\n",
      "Mean Absolute Error: 0.10602017901887491\n",
      "Mean Squared Error: 0.05847507885412941\n",
      "Root Mean Squared Error: 0.24181620883251273\n"
     ]
    }
   ],
   "source": [
    "# Finding the accuracy of the model for test on 'AWS.ap-east-1' region\n",
    "from sklearn import metrics\n",
    "from sklearn.metrics import r2_score\n",
    "\n",
    "print('R squared:', r2_score(test['latency_ms'], y_pred))\n",
    "print('Mean Absolute Error:', metrics.mean_absolute_error(test['latency_ms'], y_pred))\n",
    "print('Mean Squared Error:', metrics.mean_squared_error(test['latency_ms'], y_pred))\n",
    "print('Root Mean Squared Error:', np.sqrt(metrics.mean_squared_error(test['latency_ms'], y_pred)))"
   ]
  },
  {
   "cell_type": "markdown",
   "id": "8dbc9d66",
   "metadata": {},
   "source": [
    "# ========================================================="
   ]
  }
 ],
 "metadata": {
  "kernelspec": {
   "display_name": "Python 3",
   "language": "python",
   "name": "python3"
  },
  "language_info": {
   "codemirror_mode": {
    "name": "ipython",
    "version": 3
   },
   "file_extension": ".py",
   "mimetype": "text/x-python",
   "name": "python",
   "nbconvert_exporter": "python",
   "pygments_lexer": "ipython3",
   "version": "3.8.8"
  }
 },
 "nbformat": 4,
 "nbformat_minor": 5
}
